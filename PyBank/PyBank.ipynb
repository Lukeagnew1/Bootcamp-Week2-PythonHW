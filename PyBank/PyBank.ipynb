{
 "cells": [
  {
   "cell_type": "code",
   "execution_count": 49,
   "metadata": {},
   "outputs": [],
   "source": [
    "#Import Libraries\n",
    "\n",
    "import pandas as pd \n",
    "from pathlib import Path "
   ]
  },
  {
   "cell_type": "code",
   "execution_count": 50,
   "metadata": {},
   "outputs": [],
   "source": [
    "#Set the Path and read in the CSV as a Dataframe\n",
    "\n",
    "csvpath = Path(\"Resources/budget_data.csv\")\n",
    "stock_data = pd.read_csv(csvpath)"
   ]
  },
  {
   "cell_type": "code",
   "execution_count": 51,
   "metadata": {},
   "outputs": [
    {
     "name": "stdout",
     "output_type": "stream",
     "text": [
      "86\n"
     ]
    }
   ],
   "source": [
    "#The total number of months included in the dataset.\n",
    "\n",
    "rows = stock_data.shape[0]\n",
    "print(rows)"
   ]
  },
  {
   "cell_type": "code",
   "execution_count": 52,
   "metadata": {},
   "outputs": [
    {
     "name": "stdout",
     "output_type": "stream",
     "text": [
      " $38382578\n"
     ]
    }
   ],
   "source": [
    "#The net total amount of Profit/Losses over the entire period.\n",
    "\n",
    "totals = stock_data['Profit/Losses'].sum()\n",
    "total = (f\" ${totals}\")\n",
    "print(total)"
   ]
  },
  {
   "cell_type": "code",
   "execution_count": 53,
   "metadata": {},
   "outputs": [
    {
     "name": "stdout",
     "output_type": "stream",
     "text": [
      "$-2315.12\n"
     ]
    }
   ],
   "source": [
    "#The average of the changes in Profit/Losses over the entire period.\n",
    "\n",
    "difference = stock_data['Profit/Losses'].diff()\n",
    "average = difference.mean()\n",
    "average_change = (\"${:.2f}\".format(average))\n",
    "print(average_change)"
   ]
  },
  {
   "cell_type": "code",
   "execution_count": 54,
   "metadata": {},
   "outputs": [
    {
     "name": "stdout",
     "output_type": "stream",
     "text": [
      "Feb-2012 ($1926159)\n"
     ]
    }
   ],
   "source": [
    "#The greatest increase in profits (date and amount) over the entire period.\n",
    "\n",
    "difference = stock_data['Profit/Losses'].diff() \n",
    "greatest_increase = difference.max()\n",
    "Increase = (\"(${:.0f})\".format(greatest_increase))\n",
    "date_increase = stock_data.iloc[25, 0] \n",
    "increase = (\"{} {}\".format(date_increase, Increase))\n",
    "print(increase)"
   ]
  },
  {
   "cell_type": "code",
   "execution_count": 55,
   "metadata": {},
   "outputs": [
    {
     "name": "stdout",
     "output_type": "stream",
     "text": [
      "Sep-2013 ($-2196167)\n"
     ]
    }
   ],
   "source": [
    "#The greatest decrease in losses (date and amount) over the entire period\n",
    "\n",
    "difference = stock_data['Profit/Losses'].diff()\n",
    "greatest_decrease = difference.min()\n",
    "Decrease = (\"(${:.0f})\".format(greatest_decrease))\n",
    "date_decrease = stock_data.iloc[44, 0] \n",
    "decrease = (\"{} {}\".format(date_decrease, Decrease))\n",
    "print(decrease)"
   ]
  },
  {
   "cell_type": "code",
   "execution_count": 56,
   "metadata": {},
   "outputs": [
    {
     "name": "stdout",
     "output_type": "stream",
     "text": [
      "Financial Analysis\n",
      "----------------------------\n",
      "Total Months:  86\n",
      "Total:   $38382578\n",
      "Average Change:  $-2315.12\n",
      "Greatest Increase in Profits:  Feb-2012 ($1926159)\n",
      "Greatest Decrease in Losses:  Sep-2013 ($-2196167)\n"
     ]
    }
   ],
   "source": [
    "#Your final script should print the analysis to the terminal and export a text file with the results.\n",
    "\n",
    "print(\"Financial Analysis\")\n",
    "print(\"----------------------------\")\n",
    "print(f\"Total Months:  {rows}\")\n",
    "print(f\"Total:  {total}\")\n",
    "print(f\"Average Change:  {average_change}\")\n",
    "print(f\"Greatest Increase in Profits:  {increase}\")\n",
    "print(f\"Greatest Decrease in Losses:  {decrease}\")\n",
    "\n",
    "budget_file = os.path.join(\"Resources\", \"budget_data.txt\")\n",
    "with open(budget_file, \"w\") as outfile:\n",
    "    \n",
    "    outfile.write(\"Financial Analysis\\n\")\n",
    "    outfile.write(\"----------------------------\\n\")\n",
    "    outfile.write(f\"Total Months:  {rows}\\n\")\n",
    "    outfile.write(f\"Total:  {total}\\n\")\n",
    "    outfile.write(f\"Average Change:  {average_change}\\n\")\n",
    "    outfile.write(f\"Greatest Increase in Profits:  {increase}\\n\")\n",
    "    outfile.write(f\"Greatest Decrease in Losses: {decrease}\\n\")"
   ]
  },
  {
   "cell_type": "code",
   "execution_count": null,
   "metadata": {},
   "outputs": [],
   "source": []
  }
 ],
 "metadata": {
  "kernelspec": {
   "display_name": "Python 3",
   "language": "python",
   "name": "python3"
  },
  "language_info": {
   "codemirror_mode": {
    "name": "ipython",
    "version": 3
   },
   "file_extension": ".py",
   "mimetype": "text/x-python",
   "name": "python",
   "nbconvert_exporter": "python",
   "pygments_lexer": "ipython3",
   "version": "3.8.5"
  }
 },
 "nbformat": 4,
 "nbformat_minor": 4
}
